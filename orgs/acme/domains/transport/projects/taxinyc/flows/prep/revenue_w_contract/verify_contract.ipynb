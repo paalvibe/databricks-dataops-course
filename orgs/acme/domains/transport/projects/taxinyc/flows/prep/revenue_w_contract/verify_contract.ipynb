{
 "cells": [
  {
   "cell_type": "markdown",
   "metadata": {
    "application/vnd.databricks.v1+cell": {
     "cellMetadata": {
      "byteLimit": 2048000,
      "rowLimit": 10000
     },
     "inputWidgets": {},
     "nuid": "1790528c-3603-4a7e-9d01-3449103eb807",
     "showTitle": false,
     "tableResultSettingsMap": {},
     "title": ""
    }
   },
   "source": [
    "\n",
    "# Validate a data contract against Databricks dataset\n",
    "\n",
    "We use [datacontract-cli](https://github.com/datacontract/datacontract-cli).\n",
    "\n",
    "The datacontract CLI is an open-source command-line tool for working with data contracts. It uses data contract YAML files as [Data Contract Specification](https://datacontract.com/) or [ODCS](https://bitol-io.github.io/open-data-contract-standard/latest/) to lint the data contract, connect to data sources and execute schema and quality tests, detect breaking changes, and export to different formats. The tool is written in Python. It can be used as a standalone CLI tool, in a CI/CD pipeline, or directly as a Python library."
   ]
  },
  {
   "cell_type": "markdown",
   "metadata": {
    "application/vnd.databricks.v1+cell": {
     "cellMetadata": {
      "byteLimit": 2048000,
      "rowLimit": 10000
     },
     "inputWidgets": {},
     "nuid": "0b3ed7d5-8d75-4011-b402-33719e25d892",
     "showTitle": false,
     "tableResultSettingsMap": {},
     "title": ""
    }
   },
   "source": [
    "## Install libs\n",
    "\n",
    "You can ignore this warning: `Core Python package version(s) changed`"
   ]
  },
  {
   "cell_type": "code",
   "execution_count": 0,
   "metadata": {
    "application/vnd.databricks.v1+cell": {
     "cellMetadata": {
      "byteLimit": 2048000,
      "rowLimit": 10000
     },
     "inputWidgets": {},
     "nuid": "d5167eb4-f5b9-46d8-a44d-52e15eb5b698",
     "showTitle": false,
     "tableResultSettingsMap": {},
     "title": ""
    }
   },
   "outputs": [],
   "source": [
    "%pip install 'datacontract-cli[databricks]==0.10.21' databricks-sql-connector==3.7.2"
   ]
  },
  {
   "cell_type": "code",
   "execution_count": 0,
   "metadata": {
    "application/vnd.databricks.v1+cell": {
     "cellMetadata": {
      "byteLimit": 2048000,
      "rowLimit": 10000
     },
     "inputWidgets": {},
     "nuid": "e0d28893-cb4b-41ba-9465-a59280a532db",
     "showTitle": false,
     "tableResultSettingsMap": {},
     "title": ""
    }
   },
   "outputs": [],
   "source": [
    "dbutils.library.restartPython()"
   ]
  },
  {
   "cell_type": "markdown",
   "metadata": {
    "application/vnd.databricks.v1+cell": {
     "cellMetadata": {
      "byteLimit": 2048000,
      "rowLimit": 10000
     },
     "inputWidgets": {},
     "nuid": "ed547002-d620-4991-bd32-e3b90dba5203",
     "showTitle": false,
     "tableResultSettingsMap": {},
     "title": ""
    }
   },
   "source": [
    "## Make databricks token available"
   ]
  },
  {
   "cell_type": "code",
   "execution_count": 0,
   "metadata": {
    "application/vnd.databricks.v1+cell": {
     "cellMetadata": {
      "byteLimit": 2048000,
      "rowLimit": 10000
     },
     "inputWidgets": {},
     "nuid": "f479fe99-30a4-49a4-88dc-7d5d3a4d5122",
     "showTitle": false,
     "tableResultSettingsMap": {},
     "title": ""
    }
   },
   "outputs": [],
   "source": [
    "import os\n",
    "api_token = dbutils.notebook.entry_point.getDbutils().notebook().getContext().apiToken().get()\n",
    "os.environ[\"DATACONTRACT_DATABRICKS_SERVER_HOSTNAME\"] = \"dbc-639f4875-165d.cloud.databricks.com\"\n",
    "os.environ[\"DATACONTRACT_DATABRICKS_HTTP_PATH\"] = \"/sql/1.0/warehouses/aee0a674651b7e21\"\n",
    "os.environ[\"DATACONTRACT_DATABRICKS_TOKEN\"] = api_token"
   ]
  },
  {
   "cell_type": "markdown",
   "metadata": {
    "application/vnd.databricks.v1+cell": {
     "cellMetadata": {
      "byteLimit": 2048000,
      "rowLimit": 10000
     },
     "inputWidgets": {},
     "nuid": "430fa52d-3136-4998-9170-ae23e4e6528c",
     "showTitle": false,
     "tableResultSettingsMap": {},
     "title": ""
    }
   },
   "source": [
    "\n",
    "## Test the data contract with python\n",
    "\n",
    "Could be done at the end of a notebook, or in a Github Action or other CICD context.\n",
    "\n",
    "If failing, you can use run.pretty() to get output about what failed."
   ]
  },
  {
   "cell_type": "code",
   "execution_count": 0,
   "metadata": {
    "application/vnd.databricks.v1+cell": {
     "cellMetadata": {
      "byteLimit": 2048000,
      "rowLimit": 10000
     },
     "inputWidgets": {},
     "nuid": "c16bc452-bf72-4598-897f-70cfe37ccb3f",
     "showTitle": false,
     "tableResultSettingsMap": {},
     "title": ""
    }
   },
   "outputs": [],
   "source": [
    "from datacontract.data_contract import DataContract\n",
    "\n",
    "data_contract = DataContract(data_contract_file=\"./contracts/revenue_per_inhabitant.yaml\")\n",
    "run = data_contract.test()\n",
    "if not run.has_passed():\n",
    "    print(run.pretty())\n",
    "    print(\"ERROR: Data quality validation failed.\")\n",
    "else:\n",
    "    print(\"Data quality validation successful.\")\n",
    "run.finish()"
   ]
  },
  {
   "cell_type": "markdown",
   "metadata": {
    "application/vnd.databricks.v1+cell": {
     "cellMetadata": {
      "byteLimit": 2048000,
      "rowLimit": 10000
     },
     "inputWidgets": {},
     "nuid": "347bbec2-0066-4852-8954-e0890f8f8cb8",
     "showTitle": false,
     "tableResultSettingsMap": {},
     "title": ""
    }
   },
   "source": [
    "## Task: Fix failing quality check\n",
    "\n",
    "Hint: In population_share we use 0-100 for percentage, instead of 0.0-1.0.\n",
    "The contract can be found in the contracts subfolder."
   ]
  },
  {
   "cell_type": "markdown",
   "metadata": {
    "application/vnd.databricks.v1+cell": {
     "cellMetadata": {
      "byteLimit": 2048000,
      "rowLimit": 10000
     },
     "inputWidgets": {},
     "nuid": "5d0ccf9a-a5a0-401f-af3c-56332ec9ace6",
     "showTitle": false,
     "tableResultSettingsMap": {},
     "title": ""
    }
   },
   "source": [
    "\n",
    "## Test the data contract from command line\n",
    "\n",
    "Could be useful in a Github Action or other CICD context."
   ]
  },
  {
   "cell_type": "code",
   "execution_count": 0,
   "metadata": {
    "application/vnd.databricks.v1+cell": {
     "cellMetadata": {
      "byteLimit": 2048000,
      "rowLimit": 10000
     },
     "inputWidgets": {},
     "nuid": "8d34e983-b12f-413b-acd5-d0b3c0eaa59a",
     "showTitle": false,
     "tableResultSettingsMap": {},
     "title": ""
    }
   },
   "outputs": [],
   "source": [
    "%sh\n",
    "datacontract test ./contracts/revenue_per_inhabitant.yaml"
   ]
  },
  {
   "cell_type": "markdown",
   "metadata": {
    "application/vnd.databricks.v1+cell": {
     "cellMetadata": {
      "byteLimit": 2048000,
      "rowLimit": 10000
     },
     "inputWidgets": {},
     "nuid": "c0463082-af3c-40a8-a545-288e1228aec5",
     "showTitle": false,
     "tableResultSettingsMap": {},
     "title": ""
    }
   },
   "source": [
    "## Generate SQL table definition with data contract\n",
    "\n",
    "Could be useful if using data contract to generate base schema."
   ]
  },
  {
   "cell_type": "code",
   "execution_count": 0,
   "metadata": {
    "application/vnd.databricks.v1+cell": {
     "cellMetadata": {
      "byteLimit": 2048000,
      "rowLimit": 10000
     },
     "inputWidgets": {},
     "nuid": "76486915-4b3a-4e18-9c16-0846c2e8d49d",
     "showTitle": false,
     "tableResultSettingsMap": {},
     "title": ""
    }
   },
   "outputs": [],
   "source": [
    "%sh\n",
    "datacontract export --format sql ./contracts/revenue_per_inhabitant.yaml"
   ]
  },
  {
   "cell_type": "markdown",
   "metadata": {
    "application/vnd.databricks.v1+cell": {
     "cellMetadata": {
      "byteLimit": 2048000,
      "rowLimit": 10000
     },
     "inputWidgets": {},
     "nuid": "1e75b0d0-23c3-41f2-9a82-ea4f16ff104f",
     "showTitle": false,
     "tableResultSettingsMap": {},
     "title": ""
    }
   },
   "source": [
    "\n",
    "Compare this to the original definition created by running the spark notebook:\n",
    "\n",
    "```\n",
    "CREATE TABLE acme_transport_taxinyc.dev_paal_main_de1f9ba0_revenue.revenue_per_inhabitant (\n",
    "  pickup_borough STRING,\n",
    "  amount DOUBLE,\n",
    "  borough STRING,\n",
    "  population INT,\n",
    "  population_share FLOAT,\n",
    "  revenue_per_inhabitant DOUBLE)\n",
    "USING delta\n",
    "TBLPROPERTIES (\n",
    "  'delta.enableDeletionVectors' = 'true',\n",
    "  'delta.feature.deletionVectors' = 'supported',\n",
    "  'delta.minReaderVersion' = '3',\n",
    "  'delta.minWriterVersion' = '7')\n",
    "```"
   ]
  },
  {
   "cell_type": "code",
   "execution_count": 0,
   "metadata": {
    "application/vnd.databricks.v1+cell": {
     "cellMetadata": {
      "byteLimit": 2048000,
      "rowLimit": 10000
     },
     "inputWidgets": {},
     "nuid": "f4b79d2a-cfc5-4504-91d5-6574fc28ac58",
     "showTitle": false,
     "tableResultSettingsMap": {},
     "title": ""
    }
   },
   "outputs": [],
   "source": []
  }
 ],
 "metadata": {
  "application/vnd.databricks.v1+notebook": {
   "computePreferences": null,
   "dashboards": [],
   "environmentMetadata": {
    "base_environment": "",
    "environment_version": "2"
   },
   "inputWidgetPreferences": null,
   "language": "python",
   "notebookMetadata": {
    "mostRecentlyExecutedCommandWithImplicitDF": {
     "commandId": 2956002011967815,
     "dataframes": [
      "_sqldf"
     ]
    },
    "pythonIndentUnit": 4
   },
   "notebookName": "verify_contract",
   "widgets": {}
  },
  "language_info": {
   "name": "python"
  }
 },
 "nbformat": 4,
 "nbformat_minor": 0
}
